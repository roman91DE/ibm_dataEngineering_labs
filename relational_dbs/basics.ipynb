{
 "cells": [
  {
   "cell_type": "code",
   "execution_count": 33,
   "metadata": {},
   "outputs": [],
   "source": [
    "import duckdb\n",
    "import pandas as pd\n",
    "import sqlite3\n",
    "import numpy as np\n",
    "import sqlalchemy\n",
    "from prettytable import PrettyTable"
   ]
  },
  {
   "cell_type": "code",
   "execution_count": 34,
   "metadata": {},
   "outputs": [],
   "source": [
    "def pprint(cur):\n",
    "    cols= [val[0] for val in cur.description]\n",
    "    rows = cur.fetchall()\n",
    "    table = PrettyTable(field_names=cols)\n",
    "    table.add_rows(rows)\n",
    "    print(table)"
   ]
  },
  {
   "cell_type": "code",
   "execution_count": 18,
   "metadata": {},
   "outputs": [],
   "source": [
    "con = sqlite3.connect(\"./db.sqlite3\")\n",
    "cur = con.cursor()"
   ]
  },
  {
   "cell_type": "code",
   "execution_count": 15,
   "metadata": {},
   "outputs": [],
   "source": [
    "data ={\n",
    "    \"id\": [12, 55, 21],\n",
    "    \"s\" : [\"as\", \"ka\", \"oe\"],\n",
    "    \"val\": [1.32, 34.65, 12.12]\n",
    "}"
   ]
  },
  {
   "cell_type": "code",
   "execution_count": 23,
   "metadata": {},
   "outputs": [
    {
     "data": {
      "text/plain": [
       "<sqlite3.Cursor at 0x152627340>"
      ]
     },
     "execution_count": 23,
     "metadata": {},
     "output_type": "execute_result"
    }
   ],
   "source": [
    "sql = \"\"\"\n",
    "CREATE TABLE myTable(\n",
    "id INTEGER PRIMARY KEY,\n",
    "s VARCHAR(100),\n",
    "val FLOAT\n",
    ")\n",
    "\"\"\"\n",
    "\n",
    "cur.execute(sql)"
   ]
  },
  {
   "cell_type": "code",
   "execution_count": 35,
   "metadata": {},
   "outputs": [
    {
     "name": "stdout",
     "output_type": "stream",
     "text": [
      "+----+---+-----+\n",
      "| id | s | val |\n",
      "+----+---+-----+\n",
      "+----+---+-----+\n"
     ]
    }
   ],
   "source": [
    "sql=\"SELECT * FROM myTable\"\n",
    "cur.execute(sql)\n",
    "pprint(cur)\n"
   ]
  },
  {
   "cell_type": "code",
   "execution_count": 38,
   "metadata": {},
   "outputs": [
    {
     "ename": "IntegrityError",
     "evalue": "UNIQUE constraint failed: myTable.id",
     "output_type": "error",
     "traceback": [
      "\u001b[0;31m---------------------------------------------------------------------------\u001b[0m",
      "\u001b[0;31mIntegrityError\u001b[0m                            Traceback (most recent call last)",
      "Cell \u001b[0;32mIn[38], line 4\u001b[0m\n\u001b[1;32m      1\u001b[0m sql \u001b[38;5;241m=\u001b[39m \u001b[38;5;124m\"\"\"\u001b[39m\n\u001b[1;32m      2\u001b[0m \u001b[38;5;124mINSERT INTO myTable (id, s, val) VALUES(42, \u001b[39m\u001b[38;5;124m'\u001b[39m\u001b[38;5;124mWas Los?\u001b[39m\u001b[38;5;124m'\u001b[39m\u001b[38;5;124m, 12.12)\u001b[39m\n\u001b[1;32m      3\u001b[0m \u001b[38;5;124m\"\"\"\u001b[39m\n\u001b[0;32m----> 4\u001b[0m cur\u001b[38;5;241m.\u001b[39mexecute(sql)\n\u001b[1;32m      7\u001b[0m sql\u001b[38;5;241m=\u001b[39m\u001b[38;5;124m\"\u001b[39m\u001b[38;5;124mSELECT * FROM myTable\u001b[39m\u001b[38;5;124m\"\u001b[39m\n\u001b[1;32m      8\u001b[0m cur\u001b[38;5;241m.\u001b[39mexecute(sql)\n",
      "\u001b[0;31mIntegrityError\u001b[0m: UNIQUE constraint failed: myTable.id"
     ]
    }
   ],
   "source": [
    "sql = \"\"\"\n",
    "INSERT INTO myTable (id, s, val) VALUES(42, 'Was Los?', 12.12)\n",
    "\"\"\"\n",
    "cur.execute(sql)\n",
    "\n",
    "\n"
   ]
  },
  {
   "cell_type": "code",
   "execution_count": 39,
   "metadata": {},
   "outputs": [
    {
     "name": "stdout",
     "output_type": "stream",
     "text": [
      "+----+----------+-------+\n",
      "| id |    s     |  val  |\n",
      "+----+----------+-------+\n",
      "| 42 | Was Los? | 12.12 |\n",
      "+----+----------+-------+\n"
     ]
    }
   ],
   "source": [
    "\n",
    "sql=\"SELECT * FROM myTable\"\n",
    "cur.execute(sql)\n",
    "pprint(cur)"
   ]
  },
  {
   "cell_type": "code",
   "execution_count": null,
   "metadata": {},
   "outputs": [],
   "source": []
  },
  {
   "cell_type": "code",
   "execution_count": null,
   "metadata": {},
   "outputs": [],
   "source": []
  }
 ],
 "metadata": {
  "kernelspec": {
   "display_name": "DataScience",
   "language": "python",
   "name": "python3"
  },
  "language_info": {
   "codemirror_mode": {
    "name": "ipython",
    "version": 3
   },
   "file_extension": ".py",
   "mimetype": "text/x-python",
   "name": "python",
   "nbconvert_exporter": "python",
   "pygments_lexer": "ipython3",
   "version": "3.11.4"
  }
 },
 "nbformat": 4,
 "nbformat_minor": 2
}
